{
  "nbformat": 4,
  "nbformat_minor": 0,
  "metadata": {
    "colab": {
      "provenance": [],
      "authorship_tag": "ABX9TyOLQOYjDULEypIxZqATJr8F",
      "include_colab_link": true
    },
    "kernelspec": {
      "name": "python3",
      "display_name": "Python 3"
    },
    "language_info": {
      "name": "python"
    }
  },
  "cells": [
    {
      "cell_type": "markdown",
      "metadata": {
        "id": "view-in-github",
        "colab_type": "text"
      },
      "source": [
        "<a href=\"https://colab.research.google.com/github/darveenvijayan/ProductGenius/blob/main/FE.ipynb\" target=\"_parent\"><img src=\"https://colab.research.google.com/assets/colab-badge.svg\" alt=\"Open In Colab\"/></a>"
      ]
    },
    {
      "cell_type": "code",
      "source": [
        "!git clone https://github.com/darveenvijayan/ProductGenius\n",
        "!bash /content/ProductGenius/batch.sh\n",
        "%cd ProductGenius/"
      ],
      "metadata": {
        "id": "YVAftyUnK3wg"
      },
      "execution_count": null,
      "outputs": []
    },
    {
      "cell_type": "code",
      "source": [
        "import os\n",
        "from pyngrok import ngrok\n",
        "# from fastapi.middleware.cors import CORSMiddleware\n",
        "import nest_asyncio\n",
        "ngrok.set_auth_token(\"NGROK TOKEN\")"
      ],
      "metadata": {
        "id": "229NVJqIK3q1"
      },
      "execution_count": 7,
      "outputs": []
    },
    {
      "cell_type": "code",
      "source": [
        "os.environ[\"chat_api\"] = \"CHAT API\""
      ],
      "metadata": {
        "id": "VzfR-ZKEPZQo"
      },
      "execution_count": 8,
      "outputs": []
    },
    {
      "cell_type": "code",
      "source": [
        "from pyngrok import ngrok\n",
        "ngrok_tunnel = ngrok.connect(8501)\n",
        "print('Public URL:', ngrok_tunnel.public_url)"
      ],
      "metadata": {
        "id": "4GEibNlcLi6t"
      },
      "execution_count": null,
      "outputs": []
    },
    {
      "cell_type": "code",
      "source": [
        "!streamlit run ProductGenius.py"
      ],
      "metadata": {
        "id": "AeU2pC5eMSUl"
      },
      "execution_count": null,
      "outputs": []
    },
    {
      "cell_type": "code",
      "source": [],
      "metadata": {
        "id": "w2zH9wAarZgy"
      },
      "execution_count": null,
      "outputs": []
    }
  ]
}