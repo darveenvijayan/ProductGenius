{
  "nbformat": 4,
  "nbformat_minor": 0,
  "metadata": {
    "colab": {
      "provenance": [],
      "authorship_tag": "ABX9TyNZCLL/rUqtjSHwuqar7He9",
      "include_colab_link": true
    },
    "kernelspec": {
      "name": "python3",
      "display_name": "Python 3"
    },
    "language_info": {
      "name": "python"
    }
  },
  "cells": [
    {
      "cell_type": "markdown",
      "metadata": {
        "id": "view-in-github",
        "colab_type": "text"
      },
      "source": [
        "<a href=\"https://colab.research.google.com/github/darveenvijayan/ProductGenius/blob/main/BE.ipynb\" target=\"_parent\"><img src=\"https://colab.research.google.com/assets/colab-badge.svg\" alt=\"Open In Colab\"/></a>"
      ]
    },
    {
      "cell_type": "code",
      "source": [
        "!git clone https://github.com/darveenvijayan/ProductGenius\n",
        "!bash /content/ProductGenius/batch.sh"
      ],
      "metadata": {
        "colab": {
          "base_uri": "https://localhost:8080/"
        },
        "id": "YVAftyUnK3wg",
        "outputId": "b03983ea-aa78-44ea-e822-d42d87b89f86"
      },
      "execution_count": 15,
      "outputs": [
        {
          "output_type": "stream",
          "name": "stdout",
          "text": [
            "Cloning into 'ProductGenius'...\n",
            "remote: Enumerating objects: 123, done.\u001b[K\n",
            "remote: Counting objects:  25% (1/4)\u001b[K\rremote: Counting objects:  50% (2/4)\u001b[K\rremote: Counting objects:  75% (3/4)\u001b[K\rremote: Counting objects: 100% (4/4)\u001b[K\rremote: Counting objects: 100% (4/4), done.\u001b[K\n",
            "remote: Compressing objects:  33% (1/3)\u001b[K\rremote: Compressing objects:  66% (2/3)\u001b[K\rremote: Compressing objects: 100% (3/3)\u001b[K\rremote: Compressing objects: 100% (3/3), done.\u001b[K\n",
            "Receiving objects:   0% (1/123)\rReceiving objects:   1% (2/123)\rReceiving objects:   2% (3/123)\rReceiving objects:   3% (4/123)\rReceiving objects:   4% (5/123)\rReceiving objects:   5% (7/123)\rReceiving objects:   6% (8/123)\rReceiving objects:   7% (9/123)\rReceiving objects:   8% (10/123)\rReceiving objects:   9% (12/123)\rReceiving objects:  10% (13/123)\rReceiving objects:  11% (14/123)\rReceiving objects:  12% (15/123)\rReceiving objects:  13% (16/123)\rReceiving objects:  14% (18/123)\rReceiving objects:  15% (19/123)\rReceiving objects:  16% (20/123)\rReceiving objects:  17% (21/123)\rReceiving objects:  18% (23/123)\rReceiving objects:  19% (24/123)\rReceiving objects:  20% (25/123)\rReceiving objects:  21% (26/123)\rReceiving objects:  22% (28/123)\rReceiving objects:  23% (29/123)\rReceiving objects:  24% (30/123)\rReceiving objects:  25% (31/123)\rReceiving objects:  26% (32/123)\rReceiving objects:  27% (34/123)\rReceiving objects:  28% (35/123)\rReceiving objects:  29% (36/123)\rReceiving objects:  30% (37/123)\rReceiving objects:  31% (39/123)\rReceiving objects:  32% (40/123)\rReceiving objects:  33% (41/123)\rReceiving objects:  34% (42/123)\rReceiving objects:  35% (44/123)\rReceiving objects:  36% (45/123)\rReceiving objects:  37% (46/123)\rReceiving objects:  38% (47/123)\rReceiving objects:  39% (48/123)\rReceiving objects:  40% (50/123)\rReceiving objects:  41% (51/123)\rReceiving objects:  42% (52/123)\rReceiving objects:  43% (53/123)\rReceiving objects:  44% (55/123)\rReceiving objects:  45% (56/123)\rReceiving objects:  46% (57/123)\rReceiving objects:  47% (58/123)\rReceiving objects:  48% (60/123)\rReceiving objects:  49% (61/123)\rReceiving objects:  50% (62/123)\rReceiving objects:  51% (63/123)\rReceiving objects:  52% (64/123)\rReceiving objects:  53% (66/123)\rReceiving objects:  54% (67/123)\rReceiving objects:  55% (68/123)\rReceiving objects:  56% (69/123)\rReceiving objects:  57% (71/123)\rReceiving objects:  58% (72/123)\rReceiving objects:  59% (73/123)\rReceiving objects:  60% (74/123)\rReceiving objects:  61% (76/123)\rReceiving objects:  62% (77/123)\rReceiving objects:  63% (78/123)\rReceiving objects:  64% (79/123)\rReceiving objects:  65% (80/123)\rReceiving objects:  66% (82/123)\rReceiving objects:  67% (83/123)\rReceiving objects:  68% (84/123)\rReceiving objects:  69% (85/123)\rReceiving objects:  70% (87/123)\rReceiving objects:  71% (88/123)\rReceiving objects:  72% (89/123)\rReceiving objects:  73% (90/123)\rReceiving objects:  74% (92/123)\rReceiving objects:  75% (93/123)\rReceiving objects:  76% (94/123)\rReceiving objects:  77% (95/123)\rremote: Total 123 (delta 0), reused 0 (delta 0), pack-reused 119\u001b[K\n",
            "Receiving objects:  78% (96/123)\rReceiving objects:  79% (98/123)\rReceiving objects:  80% (99/123)\rReceiving objects:  81% (100/123)\rReceiving objects:  82% (101/123)\rReceiving objects:  83% (103/123)\rReceiving objects:  84% (104/123)\rReceiving objects:  85% (105/123)\rReceiving objects:  86% (106/123)\rReceiving objects:  87% (108/123)\rReceiving objects:  88% (109/123)\rReceiving objects:  89% (110/123)\rReceiving objects:  90% (111/123)\rReceiving objects:  91% (112/123)\rReceiving objects:  92% (114/123)\rReceiving objects:  93% (115/123)\rReceiving objects:  94% (116/123)\rReceiving objects:  95% (117/123)\rReceiving objects:  96% (119/123)\rReceiving objects:  97% (120/123)\rReceiving objects:  98% (121/123)\rReceiving objects:  99% (122/123)\rReceiving objects: 100% (123/123)\rReceiving objects: 100% (123/123), 267.00 KiB | 16.69 MiB/s, done.\n",
            "Resolving deltas:   0% (0/59)\rResolving deltas:   1% (1/59)\rResolving deltas:   3% (2/59)\rResolving deltas:   5% (3/59)\rResolving deltas:   6% (4/59)\rResolving deltas:   8% (5/59)\rResolving deltas:  10% (6/59)\rResolving deltas:  11% (7/59)\rResolving deltas:  13% (8/59)\rResolving deltas:  15% (9/59)\rResolving deltas:  16% (10/59)\rResolving deltas:  18% (11/59)\rResolving deltas:  20% (12/59)\rResolving deltas:  22% (13/59)\rResolving deltas:  23% (14/59)\rResolving deltas:  25% (15/59)\rResolving deltas:  27% (16/59)\rResolving deltas:  28% (17/59)\rResolving deltas:  30% (18/59)\rResolving deltas:  32% (19/59)\rResolving deltas:  33% (20/59)\rResolving deltas:  35% (21/59)\rResolving deltas:  37% (22/59)\rResolving deltas:  38% (23/59)\rResolving deltas:  40% (24/59)\rResolving deltas:  42% (25/59)\rResolving deltas:  44% (26/59)\rResolving deltas:  45% (27/59)\rResolving deltas:  47% (28/59)\rResolving deltas:  49% (29/59)\rResolving deltas:  50% (30/59)\rResolving deltas:  52% (31/59)\rResolving deltas:  54% (32/59)\rResolving deltas:  55% (33/59)\rResolving deltas:  57% (34/59)\rResolving deltas:  59% (35/59)\rResolving deltas:  61% (36/59)\rResolving deltas:  62% (37/59)\rResolving deltas:  64% (38/59)\rResolving deltas:  66% (39/59)\rResolving deltas:  67% (40/59)\rResolving deltas:  69% (41/59)\rResolving deltas:  71% (42/59)\rResolving deltas:  72% (43/59)\rResolving deltas:  74% (44/59)\rResolving deltas:  76% (45/59)\rResolving deltas:  77% (46/59)\rResolving deltas:  79% (47/59)\rResolving deltas:  81% (48/59)\rResolving deltas:  83% (49/59)\rResolving deltas:  84% (50/59)\rResolving deltas:  86% (51/59)\rResolving deltas:  88% (52/59)\rResolving deltas:  89% (53/59)\rResolving deltas:  91% (54/59)\rResolving deltas:  93% (55/59)\rResolving deltas:  94% (56/59)\rResolving deltas:  96% (57/59)\rResolving deltas:  98% (58/59)\rResolving deltas: 100% (59/59)\rResolving deltas: 100% (59/59), done.\n"
          ]
        }
      ]
    },
    {
      "cell_type": "code",
      "source": [
        "import os\n",
        "from pyngrok import ngrok\n",
        "# from fastapi.middleware.cors import CORSMiddleware\n",
        "import nest_asyncio\n",
        "from openai import OpenAI\n",
        "\n",
        "# setup OAI token\n",
        "os.environ[\"OPENAI_API_KEY\"] = \"OPENAI TOKEN\"\n",
        "client = OpenAI()\n",
        "\n",
        "# setup ngrok token\n",
        "ngrok.set_auth_token(\"NGROK TOKEN\")\n"
      ],
      "metadata": {
        "id": "229NVJqIK3q1"
      },
      "execution_count": 16,
      "outputs": []
    },
    {
      "cell_type": "code",
      "source": [
        "!python /content/ProductGenius/api.py"
      ],
      "metadata": {
        "colab": {
          "base_uri": "https://localhost:8080/"
        },
        "id": "_O3YolySOhHL",
        "outputId": "919c3f0a-40a6-45f8-c43e-3c98c9b9d06a"
      },
      "execution_count": 17,
      "outputs": [
        {
          "output_type": "stream",
          "name": "stdout",
          "text": [
            "Loaded 25 Products\n",
            "https://18e9-34-86-242-167.ngrok-free.app\n",
            "\u001b[32mINFO\u001b[0m:     Started server process [\u001b[36m13716\u001b[0m]\n",
            "\u001b[32mINFO\u001b[0m:     Waiting for application startup.\n",
            "\u001b[32mINFO\u001b[0m:     Application startup complete.\n",
            "\u001b[32mINFO\u001b[0m:     Uvicorn running on \u001b[1mhttp://127.0.0.1:8000\u001b[0m (Press CTRL+C to quit)\n",
            "\u001b[32mINFO\u001b[0m:     23.97.53.195:0 - \"\u001b[1mGET / HTTP/1.1\u001b[0m\" \u001b[32m200 OK\u001b[0m\n",
            "\u001b[32mINFO\u001b[0m:     Shutting down\n",
            "\u001b[32mINFO\u001b[0m:     Waiting for application shutdown.\n",
            "\u001b[32mINFO\u001b[0m:     Application shutdown complete.\n",
            "\u001b[32mINFO\u001b[0m:     Finished server process [\u001b[36m13716\u001b[0m]\n",
            "Traceback (most recent call last):\n",
            "  File \"/content/ProductGenius/api.py\", line 159, in <module>\n",
            "    uvicorn.run(app, port=8000)\n",
            "  File \"/usr/local/lib/python3.10/dist-packages/uvicorn/main.py\", line 575, in run\n",
            "    server.run()\n",
            "  File \"/usr/local/lib/python3.10/dist-packages/uvicorn/server.py\", line 65, in run\n",
            "    return asyncio.run(self.serve(sockets=sockets))\n",
            "  File \"/usr/local/lib/python3.10/dist-packages/nest_asyncio.py\", line 30, in run\n",
            "    return loop.run_until_complete(task)\n",
            "  File \"uvloop/loop.pyx\", line 1511, in uvloop.loop.Loop.run_until_complete\n",
            "  File \"uvloop/loop.pyx\", line 1504, in uvloop.loop.Loop.run_until_complete\n",
            "  File \"uvloop/loop.pyx\", line 1377, in uvloop.loop.Loop.run_forever\n",
            "  File \"uvloop/loop.pyx\", line 555, in uvloop.loop.Loop._run\n",
            "  File \"uvloop/loop.pyx\", line 474, in uvloop.loop.Loop._on_idle\n",
            "  File \"uvloop/cbhandles.pyx\", line 83, in uvloop.loop.Handle._run\n",
            "  File \"uvloop/cbhandles.pyx\", line 63, in uvloop.loop.Handle._run\n",
            "  File \"/usr/lib/python3.10/asyncio/tasks.py\", line 315, in __wakeup\n",
            "    self.__step()\n",
            "  File \"/usr/lib/python3.10/asyncio/tasks.py\", line 232, in __step\n",
            "    result = coro.send(None)\n",
            "  File \"/usr/local/lib/python3.10/dist-packages/uvicorn/server.py\", line 68, in serve\n",
            "    with self.capture_signals():\n",
            "  File \"/usr/lib/python3.10/contextlib.py\", line 142, in __exit__\n",
            "    next(self.gen)\n",
            "  File \"/usr/local/lib/python3.10/dist-packages/uvicorn/server.py\", line 328, in capture_signals\n",
            "    signal.raise_signal(captured_signal)\n",
            "KeyboardInterrupt\n",
            "^C\n"
          ]
        }
      ]
    },
    {
      "cell_type": "code",
      "source": [
        "!rm -r ProductGenius"
      ],
      "metadata": {
        "id": "mAHo40amedme"
      },
      "execution_count": 14,
      "outputs": []
    },
    {
      "cell_type": "code",
      "source": [],
      "metadata": {
        "id": "UgEv2mVEpvJj"
      },
      "execution_count": null,
      "outputs": []
    }
  ]
}